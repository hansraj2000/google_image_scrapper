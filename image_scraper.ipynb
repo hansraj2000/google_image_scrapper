{
 "cells": [
  {
   "cell_type": "code",
   "execution_count": 2,
   "id": "5767277d",
   "metadata": {},
   "outputs": [],
   "source": [
    "import requests\n",
    "import logging\n",
    "import os\n",
    "from bs4 import BeautifulSoup\n",
    "from urllib.request import urlopen"
   ]
  },
  {
   "cell_type": "code",
   "execution_count": 22,
   "id": "cb6cae18",
   "metadata": {},
   "outputs": [],
   "source": [
    "save_dir = \"images/\"\n",
    "if not os.path.exists(save_dir):\n",
    "    os.makedirs(save_dir)"
   ]
  },
  {
   "cell_type": "code",
   "execution_count": 23,
   "id": "6cbb1710",
   "metadata": {},
   "outputs": [],
   "source": [
    "query = \"elon musk\"\n",
    "url = 'https://www.google.com/search?rlz=1C1ONGR_enIN1063IN1063&sxsrf=AB5stBhvEMpIgEMrAjgK39M1ipuI_zatAg:1690691068244&q={query}i&tbm=isch&source=lnms&sa=X&ved=2ahUKEwihrrCEy7WAAxXJbmwGHWkeCqEQ0pQJegQIChAB&biw=1536&bih=754&dpr=1.25'"
   ]
  },
  {
   "cell_type": "code",
   "execution_count": 24,
   "id": "031eb2a4",
   "metadata": {},
   "outputs": [],
   "source": [
    "response = requests.get(f'https://www.google.com/search?rlz=1C1ONGR_enIN1063IN1063&sxsrf=AB5stBhvEMpIgEMrAjgK39M1ipuI_zatAg:1690691068244&q={query}i&tbm=isch&source=lnms&sa=X&ved=2ahUKEwihrrCEy7WAAxXJbmwGHWkeCqEQ0pQJegQIChAB&biw=1536&bih=754&dpr=1.25')"
   ]
  },
  {
   "cell_type": "code",
   "execution_count": 25,
   "id": "59738acd",
   "metadata": {},
   "outputs": [
    {
     "data": {
      "text/plain": [
       "<Response [200]>"
      ]
     },
     "execution_count": 25,
     "metadata": {},
     "output_type": "execute_result"
    }
   ],
   "source": [
    "response"
   ]
  },
  {
   "cell_type": "code",
   "execution_count": 26,
   "id": "6926b623",
   "metadata": {},
   "outputs": [],
   "source": [
    "soup = BeautifulSoup(response.content)"
   ]
  },
  {
   "cell_type": "code",
   "execution_count": 27,
   "id": "57219af2",
   "metadata": {},
   "outputs": [],
   "source": [
    "image_tags = soup.find_all('img')"
   ]
  },
  {
   "cell_type": "code",
   "execution_count": 28,
   "id": "424487b5",
   "metadata": {},
   "outputs": [],
   "source": [
    "del image_tags[0]"
   ]
  },
  {
   "cell_type": "code",
   "execution_count": 29,
   "id": "5267cfbd",
   "metadata": {},
   "outputs": [
    {
     "data": {
      "text/plain": [
       "[<img alt=\"\" class=\"yWs4tf\" src=\"https://encrypted-tbn0.gstatic.com/images?q=tbn:ANd9GcQY_R5NSNoZkSlMo3hf86COGJ4fCv0s6Nx4k8uCGkWc6YGOn_m4-rIOQ3GhOhg&amp;s\"/>,\n",
       " <img alt=\"\" class=\"yWs4tf\" src=\"https://encrypted-tbn0.gstatic.com/images?q=tbn:ANd9GcT0zOoinJSPY5-LpriVUlZxKHbhY1ZDw59SwcLQKjECd0_jDYz_2fHWTksS9PE&amp;s\"/>,\n",
       " <img alt=\"\" class=\"yWs4tf\" src=\"https://encrypted-tbn0.gstatic.com/images?q=tbn:ANd9GcQEoGcTehPfBt44vuvC8wyJieRSiGKWqDO2UHbGG34cRttKR5nGr_NDLJHg_1s&amp;s\"/>,\n",
       " <img alt=\"\" class=\"yWs4tf\" src=\"https://encrypted-tbn0.gstatic.com/images?q=tbn:ANd9GcRx-Yb54zKfM4FiiRZ9f8qc1G1OT6t9dhtd2bMCNjAAhEfiv6tv7nYtt4ZbY6Q&amp;s\"/>,\n",
       " <img alt=\"\" class=\"yWs4tf\" src=\"https://encrypted-tbn0.gstatic.com/images?q=tbn:ANd9GcSJaopQF1rdWhwmr7m77uxo0VCYQTxkktn89EN7f9JqwLBW89SKMl2x7H7083k&amp;s\"/>,\n",
       " <img alt=\"\" class=\"yWs4tf\" src=\"https://encrypted-tbn0.gstatic.com/images?q=tbn:ANd9GcTajsryULnUhibLm7EAy_8EkoDdfDf-C3MgzuCkCs3my64MQcQxf4O63e74kEI&amp;s\"/>,\n",
       " <img alt=\"\" class=\"yWs4tf\" src=\"https://encrypted-tbn0.gstatic.com/images?q=tbn:ANd9GcQpk3jJ86Eohb2rwfQR_GzzyHCIppuyGWtOXQkVsvfOwmJMdCpXGtK5TwjSgw&amp;s\"/>,\n",
       " <img alt=\"\" class=\"yWs4tf\" src=\"https://encrypted-tbn0.gstatic.com/images?q=tbn:ANd9GcQ91bYeYuNi93Snai-G61-ct5IkXUEpoeW1RpiOFFuRWggNeJf-7uN0OZsy5XI&amp;s\"/>,\n",
       " <img alt=\"\" class=\"yWs4tf\" src=\"https://encrypted-tbn0.gstatic.com/images?q=tbn:ANd9GcQMTekpXsdQimyWEzTNJPNJIGrW8b2vKvoQaDbJDSfuZHQh29b-oKubE1bBYC0&amp;s\"/>,\n",
       " <img alt=\"\" class=\"yWs4tf\" src=\"https://encrypted-tbn0.gstatic.com/images?q=tbn:ANd9GcRQZseQ9bRxUwHLR5yk-VmJYFt7AuZKTqzI7n1im9SOTEk9qWAeEoQcfZ8l5g&amp;s\"/>,\n",
       " <img alt=\"\" class=\"yWs4tf\" src=\"https://encrypted-tbn0.gstatic.com/images?q=tbn:ANd9GcRYIgN8OJk2qknLbzNzYb7dUHoKu6G384GJQ8lsULe-eyXBhASGsHwZH9kUyuw&amp;s\"/>,\n",
       " <img alt=\"\" class=\"yWs4tf\" src=\"https://encrypted-tbn0.gstatic.com/images?q=tbn:ANd9GcRUNt-70ZeRtX94MTAGG_0jct8icPN38L_0vC8ub8XMMGdqXlbjk3aWVvEiX6c&amp;s\"/>,\n",
       " <img alt=\"\" class=\"yWs4tf\" src=\"https://encrypted-tbn0.gstatic.com/images?q=tbn:ANd9GcTvewo3-e7y-JsV16EL3q3EaMThVwCiuN7DD1_KTctFNodySZtMVcuOKk5uUQ&amp;s\"/>,\n",
       " <img alt=\"\" class=\"yWs4tf\" src=\"https://encrypted-tbn0.gstatic.com/images?q=tbn:ANd9GcSAml6qsvttMXVIK2cnwNa7LqMi_VvKaRFZcmLSDDbyAiARR95xf8qQVYyxog&amp;s\"/>,\n",
       " <img alt=\"\" class=\"yWs4tf\" src=\"https://encrypted-tbn0.gstatic.com/images?q=tbn:ANd9GcT1Q-0CmrVfXGte1S5KxWDiRtt6djhyUzRP_tIhSGVZqmYd_tGTQH9EmMdXTQ&amp;s\"/>,\n",
       " <img alt=\"\" class=\"yWs4tf\" src=\"https://encrypted-tbn0.gstatic.com/images?q=tbn:ANd9GcQYT-beWXhhv_SWOWPN9WTqrBImmSSvhoow2B-381sc7q_Zq9z6qBWYujWvcw&amp;s\"/>,\n",
       " <img alt=\"\" class=\"yWs4tf\" src=\"https://encrypted-tbn0.gstatic.com/images?q=tbn:ANd9GcSq2jvDA7qkg-6VdbLMffru-bG9SMxVFJ2gLPnxTSZPt-YdgTisI9x4Nbgs5w&amp;s\"/>,\n",
       " <img alt=\"\" class=\"yWs4tf\" src=\"https://encrypted-tbn0.gstatic.com/images?q=tbn:ANd9GcS6mPr1g683xgMlTnJfswzPyIjixDUJCLKR_GUOYd43dGj0LB8Uum64r_cOjl4&amp;s\"/>,\n",
       " <img alt=\"\" class=\"yWs4tf\" src=\"https://encrypted-tbn0.gstatic.com/images?q=tbn:ANd9GcT8OIn5WlHeQaweeHJM3W_8Zx0uP8jmv5THBdUf7LOe2VviuXhFIyHjdwBqQkQ&amp;s\"/>,\n",
       " <img alt=\"\" class=\"yWs4tf\" src=\"https://encrypted-tbn0.gstatic.com/images?q=tbn:ANd9GcS6PtbO3oSFgC1yh6BPlre0Sr5h3aca6UrEmg7ibGUrD1g40Xm5cZBGYl7G3PU&amp;s\"/>]"
      ]
     },
     "execution_count": 29,
     "metadata": {},
     "output_type": "execute_result"
    }
   ],
   "source": [
    "image_tags"
   ]
  },
  {
   "cell_type": "code",
   "execution_count": 30,
   "id": "c27243f7",
   "metadata": {},
   "outputs": [
    {
     "data": {
      "text/plain": [
       "20"
      ]
     },
     "execution_count": 30,
     "metadata": {},
     "output_type": "execute_result"
    }
   ],
   "source": [
    "len(image_tags)"
   ]
  },
  {
   "cell_type": "code",
   "execution_count": 31,
   "id": "dfee58fa",
   "metadata": {},
   "outputs": [],
   "source": [
    "for i in image_tags:\n",
    "    images_url = i['src']\n",
    "    image_data = requests.get(images_url).content\n",
    "    with open(os.path.join(save_dir,f\"{query}_{image_tags.index(i)}.jpg\"),'wb') as f:\n",
    "        f.write(image_data)"
   ]
  },
  {
   "cell_type": "code",
   "execution_count": null,
   "id": "6c0a91b2",
   "metadata": {},
   "outputs": [],
   "source": []
  }
 ],
 "metadata": {
  "kernelspec": {
   "display_name": "Python 3 (ipykernel)",
   "language": "python",
   "name": "python3"
  },
  "language_info": {
   "codemirror_mode": {
    "name": "ipython",
    "version": 3
   },
   "file_extension": ".py",
   "mimetype": "text/x-python",
   "name": "python",
   "nbconvert_exporter": "python",
   "pygments_lexer": "ipython3",
   "version": "3.9.13"
  }
 },
 "nbformat": 4,
 "nbformat_minor": 5
}
